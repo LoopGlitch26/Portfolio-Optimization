import pandas as pd

aapl_df = pd.read_csv('AAPL Historical Data.csv')
amzn_df = pd.read_csv('AMZN Historical Data.csv')
fb_df = pd.read_csv('FB Historical Data.csv')
googl_df = pd.read_csv('GOOGL Historical Data.csv')
nflx_df = pd.read_csv('NFLX Historical Data.csv')

aapl_df['Symbol'] = 'AAPL'
amzn_df['Symbol'] = 'AMZN'
fb_df['Symbol'] = 'FB'
googl_df['Symbol'] = 'GOOGL'
nflx_df['Symbol'] = 'NFLX'

data = pd.concat([aapl_df, amzn_df, fb_df, googl_df, nflx_df])

start_date = '2015-01-01'
end_date = '2022-09-14'
data = data.loc[(data['Date'] >= start_date) & (data['Date'] <= end_date)]

data.to_csv('new_dataset.csv', index=False)
